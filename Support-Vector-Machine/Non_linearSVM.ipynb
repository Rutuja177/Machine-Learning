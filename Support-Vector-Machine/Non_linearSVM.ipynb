{
  "cells": [
    {
      "cell_type": "code",
      "execution_count": 2,
      "metadata": {
        "id": "XjvTlDM84ADp"
      },
      "outputs": [],
      "source": [
        "import numpy as np\n",
        "import matplotlib.pyplot as plt\n",
        "import matplotlib.gridspec as grid\n",
        "from mlxtend.plotting.decision_regions import plot_decision_regions\n",
        "from sklearn import svm\n",
        "from sklearn import metrics"
      ]
    },
    {
      "cell_type": "code",
      "execution_count": 3,
      "metadata": {
        "id": "S9BX2dh64GsO"
      },
      "outputs": [],
      "source": [
        "def linear_kernel(x1, x2):\n",
        "  return x1.T @ x2\n",
        "\n",
        "def poly_kernel(x1, x2, d = 2):\n",
        "  #return (1 + np.dot(x1, x2)) ** d\n",
        "  return (1 + x1 @ x2.T) ** d\n"
      ]
    },
    {
      "cell_type": "markdown",
      "metadata": {
        "id": "29L2kAJV4J6o"
      },
      "source": [
        ""
      ]
    },
    {
      "cell_type": "code",
      "execution_count": 4,
      "metadata": {
        "id": "goLo3GpC4O6u"
      },
      "outputs": [],
      "source": [
        "class svm():\n",
        "    def __init__(self, kernel='linear', c=1.0, tol=1e-3, maxiter=1000):\n",
        "        self._kernel = kernel\n",
        "        self._tol = tol\n",
        "        self._maxiter = maxiter\n",
        "        self._eps = 0.001\n",
        "        \n",
        "        if self._kernel == 'linear':\n",
        "            self._k = linear_kernel\n",
        "        elif self._kernel == 'poly':\n",
        "            self._k = poly_kernel\n",
        "    \n",
        "        self._c = c\n",
        "        \n",
        "    def _init_params(self):\n",
        "        self._error_cache = np.zeros(self._data.shape[0])\n",
        "        self._alphas = np.ones(self._data.shape[0]) * .1\n",
        "        self._b = 0\n",
        "        \n",
        "        if self._kernel == 'linear':\n",
        "            self._weights = np.random.rand(self._data.shape[1])\n",
        "\n",
        "    def predict_score(self, x):\n",
        "        \"\"\"Predicts a raw score (not classification)\n",
        "        \n",
        "        Arguments\n",
        "            x, array (batch_size, n_features) - input samples.\n",
        "        \"\"\"\n",
        "        u = 0\n",
        "        if self._kernel == 'linear':\n",
        "            u = self._weights @ x.T - self._b \n",
        "        else:\n",
        "            for i in range(self._data.shape[0]):\n",
        "                u += self._targets[i] * self._alphas[i] * self._k(self._data[i], x)\n",
        "            u -= self._b\n",
        "        return u\n",
        "        \n",
        "    def predict(self, x):\n",
        "        \"\"\"Classifies input samples.\n",
        "        \n",
        "        Arguments\n",
        "            x, array (batch_size, n_features) - input samples.\n",
        "        \"\"\"\n",
        "        score = self.predict_score(x)\n",
        "\n",
        "        if type(score) is np.ndarray:\n",
        "            score[score < 0] = -1\n",
        "            score[score >= 0] = 1\n",
        "\n",
        "            return score\n",
        "        else:\n",
        "            return -1 if score < 0 else 1\n",
        "\n",
        "    def smo_step(self, i1, i2):\n",
        "        if i1 == i2:\n",
        "            return 0\n",
        "\n",
        "        x1 = self._data[i1]\n",
        "        x2 = self._data[i2]\n",
        "        y1 = self._targets[i1]\n",
        "        y2 = self._targets[i2]\n",
        "        alpha1 = self._alphas[i1]\n",
        "        alpha2 = self._alphas[i2]\n",
        "\n",
        "        # Compute errors for x1 and x2\n",
        "        e1 = self.predict_score(x1) - y1\n",
        "        e2 = self.predict_score(x2) - y2\n",
        "\n",
        "        s = y1 * y2\n",
        "\n",
        "        if s == 1:\n",
        "            L = max(0, alpha2 + alpha1 - self._c)\n",
        "            H = min(self._c, alpha2 + alpha1)\n",
        "        else:\n",
        "            L = max(0, alpha2 - alpha1)\n",
        "            H = min(self._c, self._c + alpha2 - alpha1)\n",
        "\n",
        "        if L == H:\n",
        "            return 0\n",
        "\n",
        "        k11 = self._k(x1, x1)\n",
        "        k22 = self._k(x2, x2)\n",
        "        k12 = self._k(x1, x2)\n",
        "\n",
        "        eta = k11 + k22 - 2 * k12\n",
        "\n",
        "        if eta > 0:\n",
        "            a2 = alpha2 + y2 * (e1 - e2) / eta\n",
        "            if a2 <= L:\n",
        "                a2 = L\n",
        "            elif a2 >= H:\n",
        "                a2 = H\n",
        "        # TODO: the negative case\n",
        "        elif eta < 0:\n",
        "          #Lobj = objective function at a2=L\n",
        "          #Hobj = objective function at a2=H\n",
        "          #if (Lobj < Hobj-eps):\n",
        "            #a2 = L\n",
        "          #else if (Lobj > Hobj+eps):\n",
        "            #a2 = H\n",
        "          #else:\n",
        "            #a2 = alpha2\n",
        "            b = self._b\n",
        "            L1 = alpha1 + s*(alpha2 - L)\n",
        "            H1 = alpha1 + s*(alpha2 - H)\n",
        "\n",
        "            f1 = y1 * (e1 + b) - alpha1 * self._k(i1, i1) - s * alpha2 * self._k(i1, i2)\n",
        "            f2 = y2 * (e2 + b) - alpha2 * self._k(i2, i2) - s * alpha1 * self._k(i1, i2)\n",
        "            ol = (\n",
        "                L1 * f1\n",
        "                + L * f2\n",
        "                + 1 / 2 * L1**2 * self._k(i1, i1)\n",
        "                + 1 / 2 * L**2 * self._k(i2, i2)\n",
        "                + s * L * L1 * self._k(i1, i2)\n",
        "            )\n",
        "            oh = (\n",
        "                H1 * f1\n",
        "                + H * f2\n",
        "                + 1 / 2 * H1**2 * self._k(i1, i1)\n",
        "                + 1 / 2 * H**2 * self._k(i2, i2)\n",
        "                + s * H * H1 * self._k(i1, i2)\n",
        "            )\n",
        "            if ol < (oh - self._eps):\n",
        "              a2 = L\n",
        "            elif ol > oh + self._eps:\n",
        "              a2 = H\n",
        "            else:\n",
        "              a2 = alpha2\n",
        "\n",
        "\n",
        "\n",
        "        else:\n",
        "            print(f\"[DEBUG] smo_step: eta = {eta}\")\n",
        "            \n",
        "        if np.abs(a2 - alpha2) < 1e-3 * (a2 + alpha2 + 1e-3):\n",
        "            return 0\n",
        "\n",
        "        a1 = alpha1 + s * (alpha2 - a2)\n",
        "\n",
        "        # Update threshold to reflect change in Lagrange multipliers\n",
        "        b1 = e1 + y1 * (a1 - alpha1) * k11 + y2 * (a2 - alpha2) * k12 + self._b\n",
        "        b2 = e2 + y1 * (a1 - alpha1) * k12 + y2 * (a2 - alpha2) * k22 + self._b\n",
        "        self._b = (b1 + b2) / 2\n",
        "\n",
        "        # Update weight vector to reflect change in a1 & a2, if SVM is linear\n",
        "        if self._kernel == 'linear':\n",
        "            self._weights = np.sum((self._targets * self._alphas)[:, None] * self._data, axis=0)\n",
        "        else:\n",
        "            self._weights = np.sum((self._targets * self._alphas)[:, None] * self._data, axis=0)\n",
        "        \n",
        "        # Store a1 and a2 in alpha array\n",
        "        self._alphas[i1] = a1\n",
        "        self._alphas[i2] = a2\n",
        "\n",
        "        # update error cache using new multipliers\n",
        "        for i in range (self._data.shape[0]):\n",
        "            self._error_cache[i] = self.predict_score(self._data[i]) - self._targets[i]\n",
        "\n",
        "        return 1\n",
        "\n",
        "    def examine(self, i2):\n",
        "        x2 = self._data[i2]\n",
        "        y2 = self._targets[i2]\n",
        "        alpha2 = self._alphas[i2]\n",
        "        e2 = self.predict_score(x2) - y2\n",
        "        r2 = e2 * y2\n",
        "\n",
        "        # Heuristic for picking the first multiplier\n",
        "        if (r2 < -self._tol and alpha2 < self._c) or (r2 > self._tol and alpha2 > 0):\n",
        "            f_idxs = np.where((self._alphas != 0) & (self._alphas != self._c))[0]\n",
        "\n",
        "            if len(f_idxs) > 1:\n",
        "                # Hueristic for second multiplier: get i1 with lowest absolute error |e1 - e2|\n",
        "\n",
        "                # TODO: Clean this up\n",
        "                if e2 > 0:\n",
        "                    min_error = 999999\n",
        "                    for i, v in enumerate(f_idxs):\n",
        "                        if v == i2:\n",
        "                            continue\n",
        "\n",
        "                        if self._error_cache[v] == 0:\n",
        "                            self._error_cache[v] = self.predict_score(self._data[v]) - self._targets[v]\n",
        "                        error = np.abs(e2 - self._error_cache[v])\n",
        "\n",
        "                        if error < min_error:\n",
        "                            min_error = error\n",
        "                            i1 = v\n",
        "                else:\n",
        "                    max_error = -999999\n",
        "                    for i, v in enumerate(f_idxs):\n",
        "                        if v == i2:\n",
        "                            continue\n",
        "\n",
        "                        if self._error_cache[v] == 0:\n",
        "                            self._error_cache[v] = self.predict_score(self._data[v]) - self._targets[v]\n",
        "                        error = np.abs(e2 - self._error_cache[v])\n",
        "\n",
        "                        if error > max_error:\n",
        "                            max_error = error\n",
        "                            i1 = v\n",
        "\n",
        "                if self.smo_step(i1, i2):\n",
        "                    return 1\n",
        "                \n",
        "                # Loop over all non-zero and non-C alpha, starting at random point\n",
        "                for i, v in enumerate(np.random.permutation(f_idxs)):\n",
        "                    if self.smo_step(v, i2):\n",
        "                        return 1\n",
        "                \n",
        "                # Loop over all possible i1, starting at a random point\n",
        "                for i in range(self._data.shape[0]):\n",
        "                    if i == i2:\n",
        "                        continue\n",
        "                    if self.smo_step(i, i2):\n",
        "                        return 1\n",
        "                \n",
        "        return 0\n",
        "    \n",
        "    def fit(self, data, targets):\n",
        "        self._data = data\n",
        "        self._targets = targets\n",
        "        \n",
        "        self._init_params()\n",
        "        \n",
        "        n_changed = 0\n",
        "        examine_all = True\n",
        "        n_iter = 0\n",
        "        \n",
        "        while (n_changed > 0 or examine_all is True) and n_iter < self._maxiter:\n",
        "            n_changed = 0\n",
        "            n_iter += 1\n",
        "            \n",
        "            if examine_all is True:\n",
        "                # loop over all training examples\n",
        "                for i in range(data.shape[0]):\n",
        "                    n_changed += self.examine(i)\n",
        "            else:\n",
        "                # loop over examples where alpha is not 0 & not C\n",
        "                f_idxs = np.where((self._alphas != 0) & (self._alphas != self._c))[0]\n",
        "                for i, v in enumerate(f_idxs):\n",
        "                    n_changed += self.examine(v)\n",
        "            \n",
        "            if examine_all is True:\n",
        "                examine_all = False\n",
        "            elif n_changed == 0:\n",
        "                examine_all = True"
      ]
    },
    {
      "cell_type": "code",
      "execution_count": 5,
      "metadata": {
        "colab": {
          "base_uri": "https://localhost:8080/"
        },
        "id": "tNYcTNHB9sJB",
        "outputId": "f0d94598-d4c0-4e4c-8a10-b4af0b6e9fc2"
      },
      "outputs": [
        {
          "output_type": "execute_result",
          "data": {
            "text/plain": [
              "((135, 2), (15, 2), (135,), (15,))"
            ]
          },
          "metadata": {},
          "execution_count": 5
        }
      ],
      "source": [
        "from sklearn.datasets import make_circles\n",
        "from sklearn.model_selection import train_test_split\n",
        "X, y = make_circles(n_samples=150, factor=0.3, noise=0.05, random_state=0)\n",
        "X_train, X_test, y_train, y_test = train_test_split(X, y, stratify=y, random_state=0, test_size=0.10)\n",
        "X_train.shape, X_test.shape, y_train.shape, y_test.shape"
      ]
    },
    {
      "cell_type": "code",
      "execution_count": 6,
      "metadata": {
        "colab": {
          "base_uri": "https://localhost:8080/",
          "height": 295
        },
        "id": "FPxhFlMj9sJC",
        "outputId": "a0fa0be7-0f6d-4b5b-ef12-d26153a2775c"
      },
      "outputs": [
        {
          "output_type": "display_data",
          "data": {
            "text/plain": [
              "<Figure size 576x288 with 2 Axes>"
            ],
            "image/png": "[encoded data removed]"
          },
          "metadata": {
            "needs_background": "light"
          }
        }
      ],
      "source": [
        "_, (train_ax, test_ax) = plt.subplots(ncols=2, sharex=True, sharey=True, figsize=(8, 4))\n",
        "\n",
        "train_ax.scatter(X_train[:, 0], X_train[:, 1], c=y_train)\n",
        "train_ax.set_ylabel(\"Feature #1\")\n",
        "train_ax.set_xlabel(\"Feature #0\")\n",
        "train_ax.set_title(\"Training data\")\n",
        "\n",
        "test_ax.scatter(X_test[:, 0], X_test[:, 1], c=y_test)\n",
        "test_ax.set_xlabel(\"Feature #0\")\n",
        "_ = test_ax.set_title(\"Testing data\")"
      ]
    },
    {
      "cell_type": "code",
      "execution_count": 7,
      "metadata": {
        "colab": {
          "base_uri": "https://localhost:8080/"
        },
        "id": "5WNtxQtU4Wwf",
        "outputId": "7ce2dda4-e561-4761-9395-e08c5b536020"
      },
      "outputs": [
        {
          "output_type": "stream",
          "name": "stdout",
          "text": [
            "[0.03647515 0.33212398]\n",
            "69.76106057415655\n"
          ]
        }
      ],
      "source": [
        "model = svm(c=1.0, kernel = 'poly')\n",
        "model.fit(X_train, y_train)\n",
        "print(model._weights)\n",
        "print(model._b)"
      ]
    },
    {
      "cell_type": "code",
      "execution_count": 8,
      "metadata": {
        "colab": {
          "base_uri": "https://localhost:8080/",
          "height": 357
        },
        "id": "LF0DoHKg4Zg_",
        "outputId": "95ae63bc-89dc-4a31-e831-c36a064e997e"
      },
      "outputs": [
        {
          "output_type": "stream",
          "name": "stdout",
          "text": [
            "weights=[0.03647515 0.33212398]\n",
            "b=69.76106057415655\n"
          ]
        },
        {
          "output_type": "stream",
          "name": "stderr",
          "text": [
            "/usr/local/lib/python3.7/dist-packages/mlxtend/plotting/decision_regions.py:244: MatplotlibDeprecationWarning: Passing unsupported keyword arguments to axis() will raise a TypeError in 3.3.\n",
            "  ax.axis(xmin=xx.min(), xmax=xx.max(), y_min=yy.min(), y_max=yy.max())\n"
          ]
        },
        {
          "output_type": "display_data",
          "data": {
            "text/plain": [
              "<Figure size 432x288 with 1 Axes>"
            ],
            "image/png": "[encoded data removed]"
          },
          "metadata": {
            "needs_background": "light"
          }
        }
      ],
      "source": [
        "print(f\"weights={model._weights}\")\n",
        "print(f\"b={model._b}\")\n",
        "\n",
        "fig = plt.figure()\n",
        "ax = plot_decision_regions(X_train, y_train, model)\n",
        "fig.add_subplot(ax)\n",
        "plt.show()"
      ]
    },
    {
      "cell_type": "code",
      "execution_count": 9,
      "metadata": {
        "id": "AWjt-Z1F9sJF"
      },
      "outputs": [],
      "source": [
        "y_prediction = model.predict(X_test)"
      ]
    },
    {
      "cell_type": "code",
      "execution_count": 10,
      "metadata": {
        "colab": {
          "base_uri": "https://localhost:8080/"
        },
        "id": "BSzXCBWR9sJF",
        "outputId": "00a1b71f-b838-404d-d1d3-cef28fd20cd1"
      },
      "outputs": [
        {
          "output_type": "stream",
          "name": "stdout",
          "text": [
            "Accuracy: 0.0\n"
          ]
        }
      ],
      "source": [
        "print(\"Accuracy:\",metrics.accuracy_score(y_test, y_prediction))"
      ]
    },
    {
      "cell_type": "code",
      "execution_count": 11,
      "metadata": {
        "colab": {
          "base_uri": "https://localhost:8080/"
        },
        "id": "hKfCNuu49sJG",
        "outputId": "2a4ec48a-8690-4bde-8c01-f9f7e8fdb075"
      },
      "outputs": [
        {
          "output_type": "stream",
          "name": "stdout",
          "text": [
            "(100, 2) (100,)\n"
          ]
        }
      ],
      "source": [
        "n_a_samples = 50\n",
        "n_b_samples = 50\n",
        "\n",
        "a_samples = np.random.multivariate_normal([-1, 1], [[0.1, 0], [0, 0.1]], n_a_samples)\n",
        "b_samples = np.random.multivariate_normal([1, -1], [[0.1, 0], [0, 0.1]], n_b_samples)\n",
        "a_targets = np.ones(n_a_samples) * -1  # Samples from class A are assigned a class value of -1.\n",
        "b_targets = np.ones(n_b_samples)  # Samples from class B are assigned a class value of 1.\n",
        "\n",
        "samples = np.concatenate((a_samples, b_samples))\n",
        "targets = np.concatenate((a_targets, b_targets))\n",
        "print(samples.shape, targets.shape)"
      ]
    },
    {
      "cell_type": "code",
      "execution_count": 12,
      "metadata": {
        "colab": {
          "base_uri": "https://localhost:8080/"
        },
        "id": "PIHD3NNm9sJH",
        "outputId": "29f058ad-fffa-4131-f147-aef22c113145"
      },
      "outputs": [
        {
          "output_type": "stream",
          "name": "stdout",
          "text": [
            "[ 0.50022787 -0.5795897 ]\n",
            "-0.4931146122910508\n"
          ]
        }
      ],
      "source": [
        "model1 = svm(c=1.0, kernel = 'linear')\n",
        "model1.fit(samples, targets)\n",
        "print(model1._weights)\n",
        "print(model1._b)"
      ]
    },
    {
      "cell_type": "code",
      "execution_count": 13,
      "metadata": {
        "colab": {
          "base_uri": "https://localhost:8080/",
          "height": 354
        },
        "id": "czPAQAyy9sJI",
        "outputId": "dcb0e8f7-eaf5-428c-ee9a-51ac9423a7b6"
      },
      "outputs": [
        {
          "output_type": "stream",
          "name": "stdout",
          "text": [
            "weights=[ 0.50022787 -0.5795897 ]\n",
            "b=-0.4931146122910508\n"
          ]
        },
        {
          "output_type": "stream",
          "name": "stderr",
          "text": [
            "/usr/local/lib/python3.7/dist-packages/mlxtend/plotting/decision_regions.py:244: MatplotlibDeprecationWarning: Passing unsupported keyword arguments to axis() will raise a TypeError in 3.3.\n",
            "  ax.axis(xmin=xx.min(), xmax=xx.max(), y_min=yy.min(), y_max=yy.max())\n"
          ]
        },
        {
          "output_type": "display_data",
          "data": {
            "text/plain": [
              "<Figure size 432x288 with 1 Axes>"
            ],
            "image/png": "[encoded data removed]"
          },
          "metadata": {
            "needs_background": "light"
          }
        }
      ],
      "source": [
        "print(f\"weights={model1._weights}\")\n",
        "print(f\"b={model1._b}\")\n",
        "\n",
        "fig = plt.figure()\n",
        "ax = plot_decision_regions(samples, targets.astype(np.int_), model1)\n",
        "fig.add_subplot(ax)\n",
        "plt.show()"
      ]
    },
    {
      "cell_type": "markdown",
      "metadata": {
        "id": "fJhI7A8I9sJI"
      },
      "source": [
        "Implement using sklearn"
      ]
    },
    {
      "cell_type": "code",
      "execution_count": 14,
      "metadata": {
        "id": "I9pv1GzE4ddN"
      },
      "outputs": [],
      "source": [
        "from sklearn import svm\n",
        "\n",
        "#Creating svm Classifier\n",
        "svm = svm.SVC(kernel='poly')\n",
        "\n",
        "#Train the model using the training sets\n",
        "svm.fit(X_train, y_train)\n",
        "\n",
        "#Predict the response for test dataset\n",
        "y_prediction = svm.predict(X_test)\n"
      ]
    },
    {
      "cell_type": "code",
      "execution_count": 15,
      "metadata": {
        "colab": {
          "base_uri": "https://localhost:8080/"
        },
        "id": "j-ZMZrybITz5",
        "outputId": "fa129eef-2662-40cb-98f2-3e4044e4159a"
      },
      "outputs": [
        {
          "output_type": "stream",
          "name": "stdout",
          "text": [
            "Accuracy: 0.5333333333333333\n"
          ]
        }
      ],
      "source": [
        "#Model Accuracy: how often is the classifier correct?\n",
        "print(\"Accuracy:\",metrics.accuracy_score(y_test, y_prediction))"
      ]
    },
    {
      "cell_type": "code",
      "execution_count": 16,
      "metadata": {
        "colab": {
          "base_uri": "https://localhost:8080/",
          "height": 568
        },
        "id": "LOPNT1UDIsCS",
        "outputId": "c3c9a395-3c70-428f-e536-af87c8f66037"
      },
      "outputs": [
        {
          "output_type": "stream",
          "name": "stderr",
          "text": [
            "/usr/local/lib/python3.7/dist-packages/mlxtend/plotting/decision_regions.py:244: MatplotlibDeprecationWarning: Passing unsupported keyword arguments to axis() will raise a TypeError in 3.3.\n",
            "  ax.axis(xmin=xx.min(), xmax=xx.max(), y_min=yy.min(), y_max=yy.max())\n"
          ]
        },
        {
          "output_type": "display_data",
          "data": {
            "text/plain": [
              "<Figure size 720x576 with 1 Axes>"
            ],
            "image/png": "[encoded data removed]"
          },
          "metadata": {
            "needs_background": "light"
          }
        }
      ],
      "source": [
        "fig = plt.figure(figsize=(10,8))\n",
        "ax = plot_decision_regions(X_train, y_train, clf=svm, legend=2)\n",
        "fig.add_subplot(ax)\n",
        "plt.xlabel('feature 0')\n",
        "plt.ylabel('feature 1')\n",
        "plt.title('SVM with linear kernel')\n",
        "plt.show()"
      ]
    },
    {
      "cell_type": "code",
      "execution_count": 17,
      "metadata": {
        "id": "N5FpU_6i9sJJ"
      },
      "outputs": [],
      "source": [
        "from sklearn import svm\n",
        "#Creating svm Classifier\n",
        "svm1 = svm.SVC(kernel='linear')\n",
        "\n",
        "#Train the model using the training sets\n",
        "svm1.fit(X_train, y_train)\n",
        "\n",
        "#Predict the response for test dataset\n",
        "y_pred = svm1.predict(X_test)"
      ]
    },
    {
      "cell_type": "code",
      "execution_count": 18,
      "metadata": {
        "colab": {
          "base_uri": "https://localhost:8080/"
        },
        "id": "5ojGPTz89sJJ",
        "outputId": "d61721e5-2f96-44f7-f09f-fbdce7ca3959"
      },
      "outputs": [
        {
          "output_type": "stream",
          "name": "stdout",
          "text": [
            "Accuracy: 0.4666666666666667\n"
          ]
        }
      ],
      "source": [
        "#Model Accuracy: how often is the classifier correct?\n",
        "print(\"Accuracy:\",metrics.accuracy_score(y_test, y_pred))"
      ]
    },
    {
      "cell_type": "code",
      "execution_count": 19,
      "metadata": {
        "colab": {
          "base_uri": "https://localhost:8080/",
          "height": 568
        },
        "id": "QMn7FkCP9sJK",
        "outputId": "4b125f83-bc5b-4829-b754-11621afd0b8b"
      },
      "outputs": [
        {
          "output_type": "stream",
          "name": "stderr",
          "text": [
            "/usr/local/lib/python3.7/dist-packages/mlxtend/plotting/decision_regions.py:244: MatplotlibDeprecationWarning: Passing unsupported keyword arguments to axis() will raise a TypeError in 3.3.\n",
            "  ax.axis(xmin=xx.min(), xmax=xx.max(), y_min=yy.min(), y_max=yy.max())\n"
          ]
        },
        {
          "output_type": "display_data",
          "data": {
            "text/plain": [
              "<Figure size 720x576 with 1 Axes>"
            ],
            "image/png": "[encoded data removed]"
          },
          "metadata": {
            "needs_background": "light"
          }
        }
      ],
      "source": [
        "fig = plt.figure(figsize=(10,8))\n",
        "ax = plot_decision_regions(samples, targets.astype(np.int_), clf=svm1, legend=2)\n",
        "fig.add_subplot(ax)\n",
        "plt.xlabel('feature 0')\n",
        "plt.ylabel('feature 1')\n",
        "plt.title('SVM with linear kernel')\n",
        "plt.show()"
      ]
    }
  ],
  "metadata": {
    "colab": {
      "collapsed_sections": [],
      "name": "Non_linearSVM.ipynb",
      "provenance": []
    },
    "kernelspec": {
      "display_name": "Python 3.9.12 ('base': conda)",
      "language": "python",
      "name": "python3"
    },
    "language_info": {
      "codemirror_mode": {
        "name": "ipython",
        "version": 3
      },
      "file_extension": ".py",
      "mimetype": "text/x-python",
      "name": "python",
      "nbconvert_exporter": "python",
      "pygments_lexer": "ipython3",
      "version": "3.9.12"
    },
    "vscode": {
      "interpreter": {
        "hash": "33b4dd74dfcd88eb53028e19ebcfc18a14279eb6fccfcf244dc9ddab920fb54f"
      }
    }
  },
  "nbformat": 4,
  "nbformat_minor": 0
}